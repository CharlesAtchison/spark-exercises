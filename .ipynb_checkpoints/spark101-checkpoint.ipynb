{
 "cells": [
  {
   "cell_type": "code",
   "execution_count": 1,
   "id": "fbec3b5c-c9e0-4151-91a9-14a1e11ab1a1",
   "metadata": {},
   "outputs": [],
   "source": [
    "import pandas as pd\n",
    "import numpy as np\n",
    "import pyspark\n",
    "from pydataset import data\n",
    "from pyspark.sql.functions import *\n",
    "from pyspark.sql.types import *\n"
   ]
  },
  {
   "cell_type": "markdown",
   "id": "e1de3c7e-d4e5-4d72-ad33-49a3923d4dc4",
   "metadata": {},
   "source": [
    "## 1. Create a spark data frame that contains your favorite programming languages.\n",
    "> - The name of the column should be `language`\n",
    "> - View the schema of the dataframe\n",
    "> - Output the shape of the dataframe\n",
    "> - Show the first 5 records in the dataframe"
   ]
  },
  {
   "cell_type": "code",
   "execution_count": 2,
   "id": "8b74fb03-2308-4ad3-a6a8-378d078b3be0",
   "metadata": {},
   "outputs": [
    {
     "name": "stderr",
     "output_type": "stream",
     "text": [
      "WARNING: An illegal reflective access operation has occurred\n",
      "WARNING: Illegal reflective access by org.apache.spark.unsafe.Platform (file:/usr/local/lib/python3.9/site-packages/pyspark/jars/spark-unsafe_2.12-3.2.0.jar) to constructor java.nio.DirectByteBuffer(long,int)\n",
      "WARNING: Please consider reporting this to the maintainers of org.apache.spark.unsafe.Platform\n",
      "WARNING: Use --illegal-access=warn to enable warnings of further illegal reflective access operations\n",
      "WARNING: All illegal access operations will be denied in a future release\n",
      "Using Spark's default log4j profile: org/apache/spark/log4j-defaults.properties\n",
      "Setting default log level to \"WARN\".\n",
      "To adjust logging level use sc.setLogLevel(newLevel). For SparkR, use setLogLevel(newLevel).\n",
      "21/11/08 10:48:53 WARN NativeCodeLoader: Unable to load native-hadoop library for your platform... using builtin-java classes where applicable\n"
     ]
    },
    {
     "name": "stdout",
     "output_type": "stream",
     "text": [
      "root\n",
      " |-- language: string (nullable = true)\n",
      "\n"
     ]
    },
    {
     "name": "stderr",
     "output_type": "stream",
     "text": [
      "                                                                                \r"
     ]
    },
    {
     "name": "stdout",
     "output_type": "stream",
     "text": [
      "1 5\n",
      "+----------+\n",
      "|  language|\n",
      "+----------+\n",
      "|    Python|\n",
      "|      Java|\n",
      "|JavaScript|\n",
      "|         R|\n",
      "|      HTML|\n",
      "+----------+\n",
      "\n"
     ]
    }
   ],
   "source": [
    "spark = pyspark.sql.SparkSession.builder.getOrCreate()\n",
    "# Create the dataframe\n",
    "df = pd.DataFrame([{'language': 'Python'},\n",
    "                   {'language': 'Java'},\n",
    "                   {'language': 'JavaScript'},\n",
    "                   {'language': 'R'},\n",
    "                   {'language': 'HTML'}])\n",
    "\n",
    "# Convert dataframe to spark \n",
    "df = spark.createDataFrame(df)\n",
    "\n",
    "# View the schema of the dataframe\n",
    "df.printSchema()\n",
    "\n",
    "# Output the shape of the dataframe\n",
    "print(len(df.columns), df.count())\n",
    "\n",
    "# Show the first 5 records\n",
    "df.show()"
   ]
  },
  {
   "cell_type": "markdown",
   "id": "fbb5c973-238d-4c34-a8a0-568e8d6ce8a0",
   "metadata": {},
   "source": [
    "## 2. Load the mpg dataset as a spark dataframe.\n",
    "\n",
    "> a. Create 1 column of output that contains a message like the one below:\n",
    "    * ```The 1999 audi a4 has a 4 cylinder engine.```\n",
    "    \n",
    "    For each vehicle"
   ]
  },
  {
   "cell_type": "code",
   "execution_count": 3,
   "id": "3b15436c-b671-44fc-8734-79f0d08754dc",
   "metadata": {},
   "outputs": [
    {
     "name": "stdout",
     "output_type": "stream",
     "text": [
      "+------------+-----+-----+----+---+----------+---+---+---+---+-------+\n",
      "|manufacturer|model|displ|year|cyl|     trans|drv|cty|hwy| fl|  class|\n",
      "+------------+-----+-----+----+---+----------+---+---+---+---+-------+\n",
      "|        audi|   a4|  1.8|1999|  4|  auto(l5)|  f| 18| 29|  p|compact|\n",
      "|        audi|   a4|  1.8|1999|  4|manual(m5)|  f| 21| 29|  p|compact|\n",
      "|        audi|   a4|  2.0|2008|  4|manual(m6)|  f| 20| 31|  p|compact|\n",
      "|        audi|   a4|  2.0|2008|  4|  auto(av)|  f| 21| 30|  p|compact|\n",
      "|        audi|   a4|  2.8|1999|  6|  auto(l5)|  f| 16| 26|  p|compact|\n",
      "+------------+-----+-----+----+---+----------+---+---+---+---+-------+\n",
      "only showing top 5 rows\n",
      "\n"
     ]
    }
   ],
   "source": [
    "# Load the mpg dataset as a sparkdataframe\n",
    "mpg = spark.createDataFrame(data(\"mpg\"))\n",
    "# Examine the dataframe\n",
    "mpg.show(5)"
   ]
  },
  {
   "cell_type": "code",
   "execution_count": 4,
   "id": "477572aa-402f-4c78-89dd-0f98fffb9f38",
   "metadata": {},
   "outputs": [
    {
     "name": "stdout",
     "output_type": "stream",
     "text": [
      "+--------------------------------------------------------------+\n",
      "|vehicle_cylinder_desc                                         |\n",
      "+--------------------------------------------------------------+\n",
      "|The 1999 audi a4 has a 4 cylinder engine.                     |\n",
      "|The 1999 audi a4 has a 4 cylinder engine.                     |\n",
      "|The 2008 audi a4 has a 4 cylinder engine.                     |\n",
      "|The 2008 audi a4 has a 4 cylinder engine.                     |\n",
      "|The 1999 audi a4 has a 6 cylinder engine.                     |\n",
      "|The 1999 audi a4 has a 6 cylinder engine.                     |\n",
      "|The 2008 audi a4 has a 6 cylinder engine.                     |\n",
      "|The 1999 audi a4 quattro has a 4 cylinder engine.             |\n",
      "|The 1999 audi a4 quattro has a 4 cylinder engine.             |\n",
      "|The 2008 audi a4 quattro has a 4 cylinder engine.             |\n",
      "|The 2008 audi a4 quattro has a 4 cylinder engine.             |\n",
      "|The 1999 audi a4 quattro has a 6 cylinder engine.             |\n",
      "|The 1999 audi a4 quattro has a 6 cylinder engine.             |\n",
      "|The 2008 audi a4 quattro has a 6 cylinder engine.             |\n",
      "|The 2008 audi a4 quattro has a 6 cylinder engine.             |\n",
      "|The 1999 audi a6 quattro has a 6 cylinder engine.             |\n",
      "|The 2008 audi a6 quattro has a 6 cylinder engine.             |\n",
      "|The 2008 audi a6 quattro has a 8 cylinder engine.             |\n",
      "|The 2008 chevrolet c1500 suburban 2wd has a 8 cylinder engine.|\n",
      "|The 2008 chevrolet c1500 suburban 2wd has a 8 cylinder engine.|\n",
      "+--------------------------------------------------------------+\n",
      "only showing top 20 rows\n",
      "\n"
     ]
    }
   ],
   "source": [
    "# Build the message by concat the year, man, model, and cyl and assign alias\n",
    "mpg.select(\n",
    "    concat(\n",
    "        lit(\"The \"),  # The literal string\n",
    "        col(\"year\"),\n",
    "        lit(\" \"),\n",
    "        col(\"manufacturer\"),\n",
    "        lit(\" \"),\n",
    "        col(\"model\"),\n",
    "        lit(\" has a \"),\n",
    "        col(\"cyl\"),\n",
    "        lit(\" cylinder engine.\"),\n",
    "    ).alias(\"vehicle_cylinder_desc\")\n",
    ").show(truncate=False)"
   ]
  },
  {
   "cell_type": "markdown",
   "id": "cec6843a-9380-4c1e-98de-b440285007e6",
   "metadata": {},
   "source": [
    "> b. Transform the trans column so that it only contains either manual or auto."
   ]
  },
  {
   "cell_type": "code",
   "execution_count": 5,
   "id": "ad2d2d5a-dfb4-4583-8a14-b48ce9c69ed7",
   "metadata": {},
   "outputs": [
    {
     "name": "stdout",
     "output_type": "stream",
     "text": [
      "+------------+-----+-----+----+---+----------+---+---+---+---+-------+------------+\n",
      "|manufacturer|model|displ|year|cyl|     trans|drv|cty|hwy| fl|  class|transmission|\n",
      "+------------+-----+-----+----+---+----------+---+---+---+---+-------+------------+\n",
      "|        audi|   a4|  1.8|1999|  4|  auto(l5)|  f| 18| 29|  p|compact|        auto|\n",
      "|        audi|   a4|  1.8|1999|  4|manual(m5)|  f| 21| 29|  p|compact|      manual|\n",
      "|        audi|   a4|  2.0|2008|  4|manual(m6)|  f| 20| 31|  p|compact|      manual|\n",
      "|        audi|   a4|  2.0|2008|  4|  auto(av)|  f| 21| 30|  p|compact|        auto|\n",
      "|        audi|   a4|  2.8|1999|  6|  auto(l5)|  f| 16| 26|  p|compact|        auto|\n",
      "+------------+-----+-----+----+---+----------+---+---+---+---+-------+------------+\n",
      "only showing top 5 rows\n",
      "\n"
     ]
    }
   ],
   "source": [
    "df1 = mpg.withColumn('transmission', split(mpg['trans'], \"\\(\").getItem(0))\n",
    "df1.show(5)"
   ]
  },
  {
   "cell_type": "markdown",
   "id": "fe100410-8505-4f04-aaa3-2992f52d4067",
   "metadata": {},
   "source": [
    "## 3. Load the tips dataset as a spark dataframe.\n",
    ">    a. What percentage of observations are smokers?\n",
    "\n",
    ">    b. Create a column that contains the tip percentage\n",
    "\n",
    ">    c. Calculate the average tip percentage for each combination of sex and smoker."
   ]
  },
  {
   "cell_type": "code",
   "execution_count": 6,
   "id": "41c4435b-899a-4a09-b1b9-2d9e0f04882a",
   "metadata": {
    "tags": []
   },
   "outputs": [
    {
     "name": "stdout",
     "output_type": "stream",
     "text": [
      "+----------+----+------+------+---+------+----+\n",
      "|total_bill| tip|   sex|smoker|day|  time|size|\n",
      "+----------+----+------+------+---+------+----+\n",
      "|     16.99|1.01|Female|    No|Sun|Dinner|   2|\n",
      "|     10.34|1.66|  Male|    No|Sun|Dinner|   3|\n",
      "|     21.01| 3.5|  Male|    No|Sun|Dinner|   3|\n",
      "|     23.68|3.31|  Male|    No|Sun|Dinner|   2|\n",
      "|     24.59|3.61|Female|    No|Sun|Dinner|   4|\n",
      "+----------+----+------+------+---+------+----+\n",
      "only showing top 5 rows\n",
      "\n"
     ]
    }
   ],
   "source": [
    "# Load tips data\n",
    "tips = spark.createDataFrame(data('tips'))\n",
    "tips.show(5)"
   ]
  },
  {
   "cell_type": "markdown",
   "id": "94d0f9ef-d6dd-470b-91a7-08e1516a2700",
   "metadata": {
    "tags": []
   },
   "source": [
    "### a. What percentage of observations are smokers?"
   ]
  },
  {
   "cell_type": "code",
   "execution_count": 7,
   "id": "28c235ad-dd58-4a44-9beb-1aa448868d14",
   "metadata": {},
   "outputs": [
    {
     "name": "stdout",
     "output_type": "stream",
     "text": [
      "+----------+----+------+------+---+------+----+\n",
      "|total_bill| tip|   sex|smoker|day|  time|size|\n",
      "+----------+----+------+------+---+------+----+\n",
      "|     16.99|1.01|Female|    No|Sun|Dinner|   2|\n",
      "|     10.34|1.66|  Male|    No|Sun|Dinner|   3|\n",
      "|     21.01| 3.5|  Male|    No|Sun|Dinner|   3|\n",
      "|     23.68|3.31|  Male|    No|Sun|Dinner|   2|\n",
      "|     24.59|3.61|Female|    No|Sun|Dinner|   4|\n",
      "+----------+----+------+------+---+------+----+\n",
      "only showing top 5 rows\n",
      "\n"
     ]
    }
   ],
   "source": [
    "# group smokers together than concat the percentage to the integer\n",
    "tips.groupby('smoker').count().withColumn(\n",
    "    'percent',\n",
    "    concat(round((col('count')/tips.count() * 100), 0).cast('int'), lit('%')),\n",
    "          )\n",
    "tips.show(5)"
   ]
  },
  {
   "cell_type": "markdown",
   "id": "6a7986aa-a2bb-46f7-95a5-811ff6f27610",
   "metadata": {},
   "source": [
    "### b. Create a column that contains the tip percentage"
   ]
  },
  {
   "cell_type": "code",
   "execution_count": 8,
   "id": "a41f680a-c933-4285-8b1f-61f6dec61dfe",
   "metadata": {},
   "outputs": [
    {
     "name": "stdout",
     "output_type": "stream",
     "text": [
      "+----------+----+------+------+---+------+----+-----------+\n",
      "|total_bill| tip|   sex|smoker|day|  time|size|tip_percent|\n",
      "+----------+----+------+------+---+------+----+-----------+\n",
      "|     16.99|1.01|Female|    No|Sun|Dinner|   2|       5.94|\n",
      "|     10.34|1.66|  Male|    No|Sun|Dinner|   3|      16.05|\n",
      "|     21.01| 3.5|  Male|    No|Sun|Dinner|   3|      16.66|\n",
      "|     23.68|3.31|  Male|    No|Sun|Dinner|   2|      13.98|\n",
      "|     24.59|3.61|Female|    No|Sun|Dinner|   4|      14.68|\n",
      "|     25.29|4.71|  Male|    No|Sun|Dinner|   4|      18.62|\n",
      "|      8.77| 2.0|  Male|    No|Sun|Dinner|   2|      22.81|\n",
      "|     26.88|3.12|  Male|    No|Sun|Dinner|   4|      11.61|\n",
      "|     15.04|1.96|  Male|    No|Sun|Dinner|   2|      13.03|\n",
      "|     14.78|3.23|  Male|    No|Sun|Dinner|   2|      21.85|\n",
      "|     10.27|1.71|  Male|    No|Sun|Dinner|   2|      16.65|\n",
      "|     35.26| 5.0|Female|    No|Sun|Dinner|   4|      14.18|\n",
      "|     15.42|1.57|  Male|    No|Sun|Dinner|   2|      10.18|\n",
      "|     18.43| 3.0|  Male|    No|Sun|Dinner|   4|      16.28|\n",
      "|     14.83|3.02|Female|    No|Sun|Dinner|   2|      20.36|\n",
      "|     21.58|3.92|  Male|    No|Sun|Dinner|   2|      18.16|\n",
      "|     10.33|1.67|Female|    No|Sun|Dinner|   3|      16.17|\n",
      "|     16.29|3.71|  Male|    No|Sun|Dinner|   3|      22.77|\n",
      "|     16.97| 3.5|Female|    No|Sun|Dinner|   3|      20.62|\n",
      "|     20.65|3.35|  Male|    No|Sat|Dinner|   3|      16.22|\n",
      "+----------+----+------+------+---+------+----+-----------+\n",
      "only showing top 20 rows\n",
      "\n"
     ]
    }
   ],
   "source": [
    "# Calculate the tip over the total bill to get percentage\n",
    "df = tips.withColumn('tip_percent',\n",
    "                concat(round(col('tip') / col('total_bill') * 100, 2)))\n",
    "df.show()"
   ]
  },
  {
   "cell_type": "markdown",
   "id": "4f2ed62f-3282-409c-bf4b-06122cc3e84a",
   "metadata": {},
   "source": [
    "### c. Calculate the average tip percentage for each combination of sex and smoker."
   ]
  },
  {
   "cell_type": "code",
   "execution_count": 9,
   "id": "ab5b914f-b02c-4c1d-8c26-e90c95671e31",
   "metadata": {},
   "outputs": [
    {
     "name": "stdout",
     "output_type": "stream",
     "text": [
      "+------+------------------+------------------+\n",
      "|smoker|            Female|              Male|\n",
      "+------+------------------+------------------+\n",
      "|    No| 15.69111111111111| 16.06659793814433|\n",
      "|   Yes|18.214545454545455|15.276666666666667|\n",
      "+------+------------------+------------------+\n",
      "\n"
     ]
    }
   ],
   "source": [
    "df.groupby('smoker').pivot('sex').agg({'tip_percent': 'mean'}).show()"
   ]
  },
  {
   "cell_type": "markdown",
   "id": "004ed775-6433-4de8-9327-f517777e8ace",
   "metadata": {},
   "source": [
    "##  Use the seattle weather dataset referenced in the lesson to answer the questions below."
   ]
  },
  {
   "cell_type": "code",
   "execution_count": 10,
   "id": "e6b124b0-4d32-4dda-b753-87d419b6871b",
   "metadata": {},
   "outputs": [
    {
     "name": "stdout",
     "output_type": "stream",
     "text": [
      "+-------------------+-------------+--------+--------+----+-------+\n",
      "|               date|precipitation|temp_max|temp_min|wind|weather|\n",
      "+-------------------+-------------+--------+--------+----+-------+\n",
      "|2012-01-01 00:00:00|          0.0|    12.8|     5.0| 4.7|drizzle|\n",
      "|2012-01-02 00:00:00|         10.9|    10.6|     2.8| 4.5|   rain|\n",
      "|2012-01-03 00:00:00|          0.8|    11.7|     7.2| 2.3|   rain|\n",
      "|2012-01-04 00:00:00|         20.3|    12.2|     5.6| 4.7|   rain|\n",
      "|2012-01-05 00:00:00|          1.3|     8.9|     2.8| 6.1|   rain|\n",
      "+-------------------+-------------+--------+--------+----+-------+\n",
      "only showing top 5 rows\n",
      "\n"
     ]
    }
   ],
   "source": [
    "from vega_datasets import data\n",
    "# Import and create the spark dataframe\n",
    "weather = spark.createDataFrame(data.seattle_weather())\n",
    "weather.show(5)"
   ]
  },
  {
   "cell_type": "markdown",
   "id": "798f2728-df64-42c1-bac0-fa516fcbe3df",
   "metadata": {},
   "source": [
    "### A. Convert the temperatures to farenheight.\n"
   ]
  },
  {
   "cell_type": "code",
   "execution_count": 16,
   "id": "0a6b3e67-3ec8-40ec-8e5c-235f866a8328",
   "metadata": {},
   "outputs": [
    {
     "name": "stdout",
     "output_type": "stream",
     "text": [
      "+-------------------+-------------+--------+--------+----+-------+\n",
      "|               date|precipitation|temp_max|temp_min|wind|weather|\n",
      "+-------------------+-------------+--------+--------+----+-------+\n",
      "|2012-01-01 00:00:00|          0.0|   55.04|    41.0| 4.7|drizzle|\n",
      "|2012-01-02 00:00:00|         10.9|   51.08|   37.04| 4.5|   rain|\n",
      "|2012-01-03 00:00:00|          0.8|   53.06|   44.96| 2.3|   rain|\n",
      "|2012-01-04 00:00:00|         20.3|   53.96|   42.08| 4.7|   rain|\n",
      "|2012-01-05 00:00:00|          1.3|   48.02|   37.04| 6.1|   rain|\n",
      "+-------------------+-------------+--------+--------+----+-------+\n",
      "only showing top 5 rows\n",
      "\n"
     ]
    }
   ],
   "source": [
    "weather = weather.withColumn('temp_max', expr('round(temp_max * (9/5) + 32, 2)')).withColumn('temp_min', expr('round(temp_min * (9/5) + 32, 2)'))\n",
    "\n",
    "weather.show(5)"
   ]
  },
  {
   "cell_type": "markdown",
   "id": "0eeab6aa-4151-470a-8aa2-18f6b2a58bdb",
   "metadata": {},
   "source": [
    "### B. Which month has the most rain, on average?"
   ]
  },
  {
   "cell_type": "code",
   "execution_count": 20,
   "id": "e8313625-5a81-4add-a631-65b9079fc97a",
   "metadata": {},
   "outputs": [
    {
     "name": "stdout",
     "output_type": "stream",
     "text": [
      "11\n",
      "160.625\n"
     ]
    }
   ],
   "source": [
    "\n",
    "row = (\n",
    "    weather.withColumn(\"month\", month(\"date\"))\n",
    "    .withColumn(\"year\", year(\"date\"))\n",
    "    .groupBy(\"month\", \"year\")\n",
    "    .agg(sum(\"precipitation\").alias(\"total_monthly_precipitation\"))\n",
    "    .groupBy(\"month\")\n",
    "    .agg(mean(\"total_monthly_precipitation\").alias(\"avg_monthly_rain\"))\n",
    "    .sort(col(\"avg_monthly_rain\").desc())\n",
    "    .first()\n",
    ")\n",
    "print(row.month)\n",
    "print(row.avg_monthly_rain)"
   ]
  },
  {
   "cell_type": "markdown",
   "id": "e64db0b3-10fa-4c3e-9c19-680f93bec1a7",
   "metadata": {},
   "source": [
    "### C. Which year was the windiest?"
   ]
  },
  {
   "cell_type": "code",
   "execution_count": 30,
   "id": "10dcc936-8042-46d0-8f2f-b26dfaecfce2",
   "metadata": {},
   "outputs": [
    {
     "data": {
      "text/plain": [
       "Row(year=2012, total_winds=1244.7)"
      ]
     },
     "execution_count": 30,
     "metadata": {},
     "output_type": "execute_result"
    }
   ],
   "source": [
    "max_wind = weather.withColumn(\n",
    "    \"year\", year(\"date\")).groupBy(\"year\").agg(sum(\"wind\").alias(\"total_winds\")).sort(col(\"total_winds\").desc()).collect()[0]\n",
    "    \n",
    "max_wind"
   ]
  },
  {
   "cell_type": "markdown",
   "id": "f03baa25-1a33-4778-b093-48b966c723e4",
   "metadata": {},
   "source": [
    "### D. What is the most frequent type of weather in January?"
   ]
  },
  {
   "cell_type": "code",
   "execution_count": 32,
   "id": "091d7d9b-47c6-4ffd-8806-ae0b076c004d",
   "metadata": {},
   "outputs": [
    {
     "data": {
      "text/plain": [
       "Row(weather='fog', count=38)"
      ]
     },
     "execution_count": 32,
     "metadata": {},
     "output_type": "execute_result"
    }
   ],
   "source": [
    "weather_type = (weather.withColumn(\"month\", month(\"date\"))\n",
    "    .filter(col(\"month\") == 1) # This is the month of jav\n",
    "    .groupBy(\"weather\") # Group by the type of weather\n",
    "    .count() # Count the frequency\n",
    "    .sort(col(\"count\").desc()) # Sort the frequencies\n",
    "    .collect()[0]) # this selects the first row\n",
    "    \n",
    "weather_type"
   ]
  },
  {
   "cell_type": "markdown",
   "id": "c555f494-775a-4680-8d21-430c53e39257",
   "metadata": {},
   "source": [
    "### E. What is the average high and low tempurature on sunny days in July in 2013 and 2014?"
   ]
  },
  {
   "cell_type": "code",
   "execution_count": 35,
   "id": "4e02eacc-d549-4b39-a1f6-2a15fafeb42c",
   "metadata": {},
   "outputs": [
    {
     "name": "stdout",
     "output_type": "stream",
     "text": [
      "+-----------------+-----------------+\n",
      "|average_high_temp| average_low_temp|\n",
      "+-----------------+-----------------+\n",
      "|80.29192307692308|57.52884615384615|\n",
      "+-----------------+-----------------+\n",
      "\n"
     ]
    }
   ],
   "source": [
    "avg_h_l = (weather.filter(month(\"date\") == 7)\n",
    "    .filter(year(\"date\") > 2012)\n",
    "    .filter(year(\"date\") < 2015)\n",
    "    .filter(col(\"weather\") == lit(\"sun\"))\n",
    "    .agg(\n",
    "        avg(\"temp_max\").alias(\"average_high_temp\"),\n",
    "        avg(\"temp_min\").alias(\"average_low_temp\"),\n",
    "    )\n",
    "    .show())"
   ]
  },
  {
   "cell_type": "markdown",
   "id": "08f07454-726d-4b3a-9481-0786174209d7",
   "metadata": {},
   "source": [
    "### F. What percentage of days were rainy in q3 of 2015?"
   ]
  },
  {
   "cell_type": "code",
   "execution_count": 37,
   "id": "33b90911-f471-4a3c-9a02-6cc2f1ac0ba5",
   "metadata": {},
   "outputs": [
    {
     "name": "stdout",
     "output_type": "stream",
     "text": [
      "+--------------------+\n",
      "|           avg(rain)|\n",
      "+--------------------+\n",
      "|0.021739130434782608|\n",
      "+--------------------+\n",
      "\n"
     ]
    }
   ],
   "source": [
    "(\n",
    "    weather.filter(year(\"date\") == 2015)\n",
    "    .filter(quarter(\"date\") == 3)\n",
    "    .select(when(col(\"weather\") == \"rain\", 1).otherwise(0).alias(\"rain\"))\n",
    "    .agg(mean(\"rain\"))\n",
    "    .show()\n",
    ")"
   ]
  },
  {
   "cell_type": "markdown",
   "id": "c22818e4-5125-4dd9-9cd2-35ad61beac70",
   "metadata": {},
   "source": [
    "### G. For each year, find what percentage of days it rained (had non-zero precipitation)."
   ]
  },
  {
   "cell_type": "code",
   "execution_count": 38,
   "id": "d874e70a-41e0-4bb0-bbdc-5e3e404db5e9",
   "metadata": {},
   "outputs": [
    {
     "name": "stdout",
     "output_type": "stream",
     "text": [
      "+----+-------------------+\n",
      "|year|          avg(rain)|\n",
      "+----+-------------------+\n",
      "|2012|0.48360655737704916|\n",
      "|2013|0.41643835616438357|\n",
      "|2014|  0.410958904109589|\n",
      "|2015|0.39452054794520547|\n",
      "+----+-------------------+\n",
      "\n"
     ]
    }
   ],
   "source": [
    "(\n",
    "    weather.withColumn(\"year\", year(\"date\"))\n",
    "    .select(when(col(\"precipitation\") > 0, 1).otherwise(0).alias(\"rain\"), \"year\")\n",
    "    .groupby(\"year\")\n",
    "    .agg(mean(\"rain\"))\n",
    "    .show()\n",
    ")"
   ]
  }
 ],
 "metadata": {
  "kernelspec": {
   "display_name": "Python 3 (ipykernel)",
   "language": "python",
   "name": "python3"
  },
  "language_info": {
   "codemirror_mode": {
    "name": "ipython",
    "version": 3
   },
   "file_extension": ".py",
   "mimetype": "text/x-python",
   "name": "python",
   "nbconvert_exporter": "python",
   "pygments_lexer": "ipython3",
   "version": "3.9.7"
  }
 },
 "nbformat": 4,
 "nbformat_minor": 5
}
