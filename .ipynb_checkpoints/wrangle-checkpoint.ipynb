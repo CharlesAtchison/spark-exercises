{
 "cells": [
  {
   "cell_type": "code",
   "execution_count": 1,
   "id": "0f083b29-fe4e-42c8-8232-e10af88b4db2",
   "metadata": {},
   "outputs": [
    {
     "name": "stderr",
     "output_type": "stream",
     "text": [
      "WARNING: An illegal reflective access operation has occurred\n",
      "WARNING: Illegal reflective access by org.apache.spark.unsafe.Platform (file:/usr/local/lib/python3.9/site-packages/pyspark/jars/spark-unsafe_2.12-3.2.0.jar) to constructor java.nio.DirectByteBuffer(long,int)\n",
      "WARNING: Please consider reporting this to the maintainers of org.apache.spark.unsafe.Platform\n",
      "WARNING: Use --illegal-access=warn to enable warnings of further illegal reflective access operations\n",
      "WARNING: All illegal access operations will be denied in a future release\n",
      "Using Spark's default log4j profile: org/apache/spark/log4j-defaults.properties\n",
      "Setting default log level to \"WARN\".\n",
      "To adjust logging level use sc.setLogLevel(newLevel). For SparkR, use setLogLevel(newLevel).\n",
      "21/11/11 15:56:49 WARN NativeCodeLoader: Unable to load native-hadoop library for your platform... using builtin-java classes where applicable\n"
     ]
    }
   ],
   "source": [
    "from pyspark.sql import SparkSession\n",
    "from pyspark.sql.types import *\n",
    "from pyspark.sql.functions import *\n",
    "from datetime import datetime \n",
    "\n",
    "# Import pandas to help with readability of answers\n",
    "import pandas as pd\n",
    "\n",
    "# Build pyspark session and turn off warnings\n",
    "spark = SparkSession.builder.getOrCreate()"
   ]
  },
  {
   "cell_type": "code",
   "execution_count": 2,
   "id": "df6bf5ef-ef79-436c-8757-dfd0786ac28f",
   "metadata": {},
   "outputs": [
    {
     "data": {
      "text/html": [
       "<style>\n",
       "  table {margin-left: 0 !important;}\n",
       "</style>\n"
      ],
      "text/plain": [
       "<IPython.core.display.HTML object>"
      ]
     },
     "metadata": {},
     "output_type": "display_data"
    }
   ],
   "source": [
    "%%html\n",
    "<style>\n",
    "  table {margin-left: 0 !important;}\n",
    "</style>"
   ]
  },
  {
   "cell_type": "markdown",
   "id": "4c80593c-774c-43a5-9698-e4140eefcd4c",
   "metadata": {},
   "source": [
    "## This exercise uses the `case.csv`, `dept.csv`, and `source.csv` files from the san antonio 311 call dataset."
   ]
  },
  {
   "cell_type": "markdown",
   "id": "3b90e0f4-a070-4d31-aafe-709354207ab3",
   "metadata": {},
   "source": [
    "### 1.Read the case, department, and source data into their own spark dataframes."
   ]
  },
  {
   "cell_type": "code",
   "execution_count": 3,
   "id": "d69453ab-c522-4f77-98fc-c64a0e4c3089",
   "metadata": {},
   "outputs": [
    {
     "name": "stderr",
     "output_type": "stream",
     "text": [
      "                                                                                \r"
     ]
    }
   ],
   "source": [
    "# import the csv files\n",
    "case = spark.read.csv('case.csv', sep=\",\", header=True, inferSchema=True)\n",
    "dept = spark.read.csv('dept.csv', sep=\",\", header=True, inferSchema=True)\n",
    "source = spark.read.csv('source.csv', sep=\",\", header=True, inferSchema=True)\n",
    "\n",
    "# Dates will need to be formatted, creating a UDF will be an option to do this\n",
    "date_convert_udf = udf(lambda date: None if date is None else datetime.strptime(date, \"%m/%d/%y %H:%M\"), \n",
    "TimestampType())\n",
    "\n",
    "\n",
    "# Case csv file datatype conversions \n",
    "case = (\n",
    "    case.\n",
    "    withColumn('case_opened_date',\n",
    "               date_convert_udf(col('case_opened_date'))).\n",
    "    withColumn('case_closed_date',\n",
    "               date_convert_udf(col('case_closed_date'))).\n",
    "    withColumn('SLA_due_date',\n",
    "               date_convert_udf(col('SLA_due_date'))).\n",
    "    withColumn('case_closed',\n",
    "               expr(\"case_closed == 'YES'\")).\n",
    "    withColumn('case_late',\n",
    "               expr(\"case_late == 'YES'\")).\n",
    "    withColumn('num_days_late',\n",
    "               expr(\"num_days_late\").cast('float')).\n",
    "    withColumn('SLA_days',\n",
    "               col('SLA_days').cast('float')).\n",
    "    withColumn('case_id',\n",
    "               col('case_id').cast('string'))\n",
    ").drop(col('case_status'))"
   ]
  },
  {
   "cell_type": "markdown",
   "id": "2c87aaa8-cbe0-404e-bc16-acec8bcdf41c",
   "metadata": {},
   "source": [
    "### 2. Let's see how writing to the local disk works in spark:\n",
    "> * Write the code necessary to store the source data in both csv and json format, store these as `sources_csv` and `sources_json`\n",
    "> * Inspect your folder structure. What do you notice?\n",
    "    * I notice that the files are stored within a directory and not in a typical json or csv format."
   ]
  },
  {
   "cell_type": "code",
   "execution_count": 4,
   "id": "8e28148d-4133-437a-8e7f-ab6338b2f525",
   "metadata": {},
   "outputs": [],
   "source": [
    "# Save the data as sources_csv.csv and ignore if the file already exists\n",
    "source.write.csv('sources_csv.csv', mode='ignore')\n",
    "source.write.json('sources_json.json', mode='ignore')"
   ]
  },
  {
   "cell_type": "markdown",
   "id": "3a3b6f2b-5ae2-4e56-921e-e59e77825d0e",
   "metadata": {},
   "source": [
    "### 3. Inspect the data in your dataframes. Are the data types appropriate? Write the code necessary to cast the values to the appropriate types.\n",
    "\n"
   ]
  },
  {
   "cell_type": "code",
   "execution_count": 5,
   "id": "5e1cbeed-5c38-4b61-8a6b-427c69658920",
   "metadata": {},
   "outputs": [
    {
     "name": "stderr",
     "output_type": "stream",
     "text": [
      "[Stage 6:>                                                          (0 + 1) / 1]\r"
     ]
    },
    {
     "name": "stdout",
     "output_type": "stream",
     "text": [
      "-RECORD 0----------------------------------------------------\n",
      " case_id              | 1014127332                           \n",
      " case_opened_date     | 2018-01-01 00:42:00                  \n",
      " case_closed_date     | 2018-01-01 12:29:00                  \n",
      " SLA_due_date         | 2020-09-26 00:42:00                  \n",
      " case_late            | false                                \n",
      " num_days_late        | -998.5088                            \n",
      " case_closed          | true                                 \n",
      " dept_division        | Field Operations                     \n",
      " service_request_type | Stray Animal                         \n",
      " SLA_days             | 999.0                                \n",
      " source_id            | svcCRMLS                             \n",
      " request_address      | 2315  EL PASO ST, San Antonio, 78207 \n",
      " council_district     | 5                                    \n",
      "only showing top 1 row\n",
      "\n",
      "-RECORD 0----------------------------------\n",
      " dept_division          | 311 Call Center  \n",
      " dept_name              | Customer Service \n",
      " standardized_dept_name | Customer Service \n",
      " dept_subject_to_SLA    | true             \n",
      "only showing top 1 row\n",
      "\n",
      "-RECORD 0---------------------------\n",
      " source_id       | 100137           \n",
      " source_username | Merlene Blodgett \n",
      "only showing top 1 row\n",
      "\n"
     ]
    },
    {
     "name": "stderr",
     "output_type": "stream",
     "text": [
      "                                                                                \r"
     ]
    }
   ],
   "source": [
    "\n",
    "\n",
    "# Create case table alias \n",
    "case_table = case.alias('case_table')\n",
    "\n",
    "# Department csv file datatype conversions\n",
    "dept = (\n",
    "    dept.\n",
    "    withColumn('dept_subject_to_SLA',\n",
    "               expr(\"dept_subject_to_SLA == 'YES'\").cast('boolean'))\n",
    ")\n",
    "\n",
    "# Create dept table alias \n",
    "dept_table = dept.alias('dept_table')\n",
    "\n",
    "# Create source table alias\n",
    "source_table = source.alias('source_table')\n",
    "\n",
    "case.show(1, False, True)\n",
    "dept.show(1, False, True)\n",
    "source.show(1, False, True)"
   ]
  },
  {
   "cell_type": "markdown",
   "id": "fe9e7703-6207-4c24-a6e6-07c3430ba0eb",
   "metadata": {},
   "source": [
    "### Look at the data to verify what joins need to be performed\n",
    "> * `left_join` on `case` with `dept` on `dept_division` and with `source` on `source_id`"
   ]
  },
  {
   "cell_type": "code",
   "execution_count": 6,
   "id": "794787c9-58c2-4a90-b882-e4ab5fb7af08",
   "metadata": {},
   "outputs": [],
   "source": [
    "case = (\n",
    "    case_table.\n",
    "    join(# Join the case & dept on dept_division\n",
    "        dept_table, ['dept_division'], how='left').\n",
    "    join(# Join the case & source on source_id\n",
    "        source_table, ['source_id'], how='left')\n",
    ")\n",
    "case = case.dropDuplicates(['case_id'])\n",
    "\n",
    "# Create and replace the joined case as df_table \n",
    "case.createOrReplaceTempView('df_table')\n",
    "\n",
    "# create and replace the source table\n",
    "source.createOrReplaceTempView('source_table')\n"
   ]
  },
  {
   "cell_type": "code",
   "execution_count": 7,
   "id": "34473a65-a3bc-4a9d-8d15-c0d2c2375316",
   "metadata": {},
   "outputs": [
    {
     "name": "stderr",
     "output_type": "stream",
     "text": [
      "                                                                                \r"
     ]
    },
    {
     "data": {
      "text/plain": [
       "841592"
      ]
     },
     "execution_count": 7,
     "metadata": {},
     "output_type": "execute_result"
    }
   ],
   "source": [
    "case.count()"
   ]
  },
  {
   "cell_type": "markdown",
   "id": "24cb1605-0e9f-42c2-98a4-5db88903e06e",
   "metadata": {
    "tags": []
   },
   "source": [
    "\n",
    "## 1a. How old is the latest (in terms of days past SLA) currently open issue? \n",
    "\n",
    "|    |    case_id | dept_division   |   SLA_oldest_currently_open_issue |\n",
    "|---:|-----------:|:----------------|----------------------------------:|\n",
    "|  0 | 1014128388 | 311 Call Center |                              1419 |"
   ]
  },
  {
   "cell_type": "code",
   "execution_count": 8,
   "id": "2b0d2500-7215-4b7c-9def-37eeabcb1b8c",
   "metadata": {},
   "outputs": [
    {
     "name": "stderr",
     "output_type": "stream",
     "text": [
      "[Stage 19:>                                                       (0 + 12) / 12]\r"
     ]
    },
    {
     "name": "stdout",
     "output_type": "stream",
     "text": [
      "|    |    case_id | dept_division        |   SLA_oldest_currently_open_issue |\n",
      "|---:|-----------:|:---------------------|----------------------------------:|\n",
      "|  0 | 1013232521 | Engineering Division |                              1419 |\n"
     ]
    },
    {
     "name": "stderr",
     "output_type": "stream",
     "text": [
      "                                                                                \r"
     ]
    }
   ],
   "source": [
    "print((\n",
    "    spark.sql(\n",
    "        '''\n",
    "        SELECT \n",
    "        first(case_id) as case_id,\n",
    "        first(dept_division) as dept_division,\n",
    "        (MAX(SLA_days)) as SLA_oldest_currently_open_issue\n",
    "        FROM df_table\n",
    "        WHERE case_closed is False\n",
    "        '''\n",
    "    )).toPandas().to_markdown())"
   ]
  },
  {
   "cell_type": "markdown",
   "id": "81e9d055-9ec9-4130-b8c9-117a18b4db20",
   "metadata": {},
   "source": [
    "## 1b. How long has the oldest (in terms of days since opened) currently opened issue been open?\n",
    "\n",
    "|    case_id | dept_division   |   oldest_currently_open_issue |\n",
    "|-----------:|:----------------|------------------------------:|\n",
    "| 1014128388 | 311 Call Center |                          1387.63 |"
   ]
  },
  {
   "cell_type": "code",
   "execution_count": 9,
   "id": "66d4310e-e9aa-4611-9dc1-28ef888e37a1",
   "metadata": {},
   "outputs": [
    {
     "name": "stderr",
     "output_type": "stream",
     "text": [
      "[Stage 25:====>                                                   (1 + 11) / 12]\r"
     ]
    },
    {
     "name": "stdout",
     "output_type": "stream",
     "text": [
      "|    |    case_id | dept_division        |   oldest_currently_open_issue |\n",
      "|---:|-----------:|:---------------------|------------------------------:|\n",
      "|  0 | 1013232521 | Engineering Division |                       348.646 |\n"
     ]
    },
    {
     "name": "stderr",
     "output_type": "stream",
     "text": [
      "                                                                                \r"
     ]
    }
   ],
   "source": [
    "print((\n",
    "    spark.sql(\n",
    "        '''\n",
    "        SELECT \n",
    "        first(case_id) as case_id,\n",
    "        first(dept_division) as dept_division,\n",
    "        (MAX(num_days_late)) as oldest_currently_open_issue\n",
    "        FROM df_table\n",
    "        WHERE case_closed is False\n",
    "        '''\n",
    "    )).toPandas().to_markdown())"
   ]
  },
  {
   "cell_type": "markdown",
   "id": "bd19e3d8-bed2-4207-a4a1-bbf68a253412",
   "metadata": {},
   "source": [
    "## 2. How many Stray Animal cases are there?\n",
    "\n",
    "|    | service_request_type   |   count |\n",
    "|---:|:-----------------------|--------:|\n",
    "|  0 | Stray Animal           |   26754 |"
   ]
  },
  {
   "cell_type": "code",
   "execution_count": 10,
   "id": "933eb908-27f5-43f0-9d3a-3e296740aff1",
   "metadata": {},
   "outputs": [
    {
     "name": "stderr",
     "output_type": "stream",
     "text": [
      "[Stage 33:====>                                                   (1 + 11) / 12]\r"
     ]
    },
    {
     "name": "stdout",
     "output_type": "stream",
     "text": [
      "|    | service_request_type   |   count |\n",
      "|---:|:-----------------------|--------:|\n",
      "|  0 | Stray Animal           |   26754 |\n"
     ]
    },
    {
     "name": "stderr",
     "output_type": "stream",
     "text": [
      "                                                                                \r"
     ]
    }
   ],
   "source": [
    "print((\n",
    "    case.groupBy('service_request_type').count().\n",
    "    filter(case.service_request_type == 'Stray Animal')\n",
    ").toPandas().to_markdown())"
   ]
  },
  {
   "cell_type": "markdown",
   "id": "59ffe902-afa6-4acb-87e4-b0831b5b1056",
   "metadata": {},
   "source": [
    "## 3. How many service requests that are assigned to the Field Operations department (`dept_division`) are not classified as \"Officer Standby\" request type (`service_request_type`)?\n",
    "\n",
    "|    | dept_division    |   count |\n",
    "|---:|:-----------------|--------:|\n",
    "|  0 | Field Operations |  113884 |"
   ]
  },
  {
   "cell_type": "code",
   "execution_count": 11,
   "id": "a818eb09-c1f0-4c5a-9f62-f06b4dcfc70b",
   "metadata": {},
   "outputs": [
    {
     "name": "stderr",
     "output_type": "stream",
     "text": [
      "[Stage 41:====>                                                   (1 + 11) / 12]\r"
     ]
    },
    {
     "name": "stdout",
     "output_type": "stream",
     "text": [
      "|    | dept_division    |   count |\n",
      "|---:|:-----------------|--------:|\n",
      "|  0 | Field Operations |  113884 |\n"
     ]
    },
    {
     "name": "stderr",
     "output_type": "stream",
     "text": [
      "                                                                                \r"
     ]
    }
   ],
   "source": [
    "# First need to filter by the two options, then we can groupby and get counts\n",
    "print((\n",
    "    case.filter(\n",
    "        (case.dept_division == 'Field Operations') \n",
    "        & (case.service_request_type != 'Officer Standby')).\n",
    "    groupBy('dept_division').\n",
    "    count()\n",
    ").toPandas().to_markdown())"
   ]
  },
  {
   "cell_type": "markdown",
   "id": "8ad6da9b-517a-4576-a91b-0350310195e8",
   "metadata": {},
   "source": [
    "## 4. Convert the `council_district` column to a string column."
   ]
  },
  {
   "cell_type": "code",
   "execution_count": 12,
   "id": "9be0e000-3de9-409b-8e74-8f717e50da14",
   "metadata": {},
   "outputs": [
    {
     "name": "stdout",
     "output_type": "stream",
     "text": [
      "root\n",
      " |-- source_id: string (nullable = true)\n",
      " |-- dept_division: string (nullable = true)\n",
      " |-- case_id: string (nullable = true)\n",
      " |-- case_opened_date: timestamp (nullable = true)\n",
      " |-- case_closed_date: timestamp (nullable = true)\n",
      " |-- SLA_due_date: timestamp (nullable = true)\n",
      " |-- case_late: boolean (nullable = true)\n",
      " |-- num_days_late: float (nullable = true)\n",
      " |-- case_closed: boolean (nullable = true)\n",
      " |-- service_request_type: string (nullable = true)\n",
      " |-- SLA_days: float (nullable = true)\n",
      " |-- request_address: string (nullable = true)\n",
      " |-- council_district: string (nullable = true)\n",
      " |-- dept_name: string (nullable = true)\n",
      " |-- standardized_dept_name: string (nullable = true)\n",
      " |-- dept_subject_to_SLA: boolean (nullable = true)\n",
      " |-- source_username: string (nullable = true)\n",
      "\n"
     ]
    }
   ],
   "source": [
    "case = case.withColumn('council_district', col('council_district').cast('string'))\n",
    "case.printSchema()"
   ]
  },
  {
   "cell_type": "markdown",
   "id": "d9dbce9e-3a03-4594-9f49-4450bca74de2",
   "metadata": {},
   "source": [
    "## 5. Extract the year from the `case_closed_date` column."
   ]
  },
  {
   "cell_type": "code",
   "execution_count": 13,
   "id": "9e2cfd34-4232-41c8-88b0-4bc9d6529579",
   "metadata": {},
   "outputs": [
    {
     "name": "stderr",
     "output_type": "stream",
     "text": [
      "21/11/11 15:57:12 WARN package: Truncated the string representation of a plan since it was too large. This behavior can be adjusted by setting 'spark.sql.debug.maxToStringFields'.\n",
      "[Stage 49:===================================================>    (11 + 1) / 12]\r"
     ]
    },
    {
     "name": "stdout",
     "output_type": "stream",
     "text": [
      "-RECORD 0---------------------------------------------------------\n",
      " source_id              | svcCRMLS                                \n",
      " dept_division          | Waste Collection                        \n",
      " case_id                | 1013225542                              \n",
      " case_opened_date       | 2017-01-01 03:22:00                     \n",
      " case_closed_date       | 2017-01-04 16:10:00                     \n",
      " SLA_due_date           | 2017-01-05 08:30:00                     \n",
      " case_late              | false                                   \n",
      " num_days_late          | -0.68046296                             \n",
      " case_closed            | true                                    \n",
      " service_request_type   | No Pickup                               \n",
      " SLA_days               | 4.2132525                               \n",
      " request_address        | 10010  GENTLE POINT, San Antonio, 78254 \n",
      " council_district       | 7                                       \n",
      " dept_name              | Solid Waste Management                  \n",
      " standardized_dept_name | Solid Waste                             \n",
      " dept_subject_to_SLA    | true                                    \n",
      " source_username        | svcCRMLS                                \n",
      " case_closed_year       | 2017                                    \n",
      "only showing top 1 row\n",
      "\n"
     ]
    },
    {
     "name": "stderr",
     "output_type": "stream",
     "text": [
      "                                                                                \r"
     ]
    }
   ],
   "source": [
    "case = case.withColumn('case_closed_year',\n",
    "                    year(case.case_closed_date))\n",
    "case.show(1, False, True)"
   ]
  },
  {
   "cell_type": "markdown",
   "id": "8f41d797-fc77-42fe-8e11-c6cc175fc01d",
   "metadata": {},
   "source": [
    "## 6. Convert `num_days_late` from days to hours in new columns `num_hours_late`."
   ]
  },
  {
   "cell_type": "code",
   "execution_count": null,
   "id": "d929d666-248f-46af-8d7f-3664bfe9240b",
   "metadata": {},
   "outputs": [],
   "source": [
    "case = (\n",
    "    case.withColumn('num_hours_late',\n",
    "                    expr(\"num_days_late * 24\"))   # Need to multiply by 24 hours\n",
    ")\n",
    "case.show(1, False, True)"
   ]
  },
  {
   "cell_type": "markdown",
   "id": "2b131787-0cfb-4fe6-81f0-6b460ab5dcff",
   "metadata": {},
   "source": [
    "## 7. Join the case data with the source and department data.\n",
    "> - This was already accomplished earlier, before question 1 in this section and the dataframe is named `case`"
   ]
  },
  {
   "cell_type": "markdown",
   "id": "69e53ad5-c6e1-4500-a927-6c9f882d0026",
   "metadata": {
    "tags": []
   },
   "source": [
    "## 8. Are there any cases that do not have a request source?\n",
    "> - It appears that all cases have a request source"
   ]
  },
  {
   "cell_type": "code",
   "execution_count": 15,
   "id": "8d36cfd3-f54a-4a8a-8d40-8ce45fbf5b47",
   "metadata": {},
   "outputs": [
    {
     "name": "stderr",
     "output_type": "stream",
     "text": [
      "                                                                                \r"
     ]
    },
    {
     "data": {
      "text/plain": [
       "0"
      ]
     },
     "execution_count": 15,
     "metadata": {},
     "output_type": "execute_result"
    }
   ],
   "source": [
    "(\n",
    "    case.filter(case.source_username == '').\n",
    "    count()\n",
    ")"
   ]
  },
  {
   "cell_type": "markdown",
   "id": "a9cb0f52-c75b-4954-942b-2408105ee8b7",
   "metadata": {
    "tags": []
   },
   "source": [
    "## 9. What are the top 10 service request types in terms of number of requests?\n",
    "\n",
    "|    | service_request_type             |   count |\n",
    "|---:|:---------------------------------|--------:|\n",
    "|  0 | No Pickup                        |   86844 |\n",
    "|  1 | Overgrown Yard/Trash             |   65887 |\n",
    "|  2 | Bandit Signs                     |   32902 |\n",
    "|  3 | Damaged Cart                     |   30331 |\n",
    "|  4 | Front Or Side Yard Parking       |   28792 |\n",
    "|  5 | Stray Animal                     |   26754 |\n",
    "|  6 | Aggressive Animal(Non-Critical)  |   24881 |\n",
    "|  7 | Cart Exchange Request            |   22023 |\n",
    "|  8 | Junk Vehicle On Private Property |   21473 |\n",
    "|  9 | Pot Hole Repair                  |   20612 |"
   ]
  },
  {
   "cell_type": "code",
   "execution_count": 16,
   "id": "fce871e4-8efd-4153-85e2-4a1df38dcacf",
   "metadata": {},
   "outputs": [
    {
     "name": "stderr",
     "output_type": "stream",
     "text": [
      "[Stage 67:====>                                                   (1 + 11) / 12]\r"
     ]
    },
    {
     "name": "stdout",
     "output_type": "stream",
     "text": [
      "|    | service_request_type             |   count |\n",
      "|---:|:---------------------------------|--------:|\n",
      "|  0 | No Pickup                        |   86844 |\n",
      "|  1 | Overgrown Yard/Trash             |   65887 |\n",
      "|  2 | Bandit Signs                     |   32902 |\n",
      "|  3 | Damaged Cart                     |   30331 |\n",
      "|  4 | Front Or Side Yard Parking       |   28792 |\n",
      "|  5 | Stray Animal                     |   26754 |\n",
      "|  6 | Aggressive Animal(Non-Critical)  |   24881 |\n",
      "|  7 | Cart Exchange Request            |   22023 |\n",
      "|  8 | Junk Vehicle On Private Property |   21473 |\n",
      "|  9 | Pot Hole Repair                  |   20612 |\n"
     ]
    },
    {
     "name": "stderr",
     "output_type": "stream",
     "text": [
      "                                                                                \r"
     ]
    }
   ],
   "source": [
    "print((\n",
    "    case.groupBy('service_request_type').count().sort('count', ascending=False)\n",
    ").toPandas().head(10).to_markdown())"
   ]
  },
  {
   "cell_type": "markdown",
   "id": "acc14089-f4bd-40ee-8d2b-adc8a46aae21",
   "metadata": {},
   "source": [
    "## 10. What are the top 10 service request types in terms of average days late?\n",
    "\n",
    "|    | service_request_type                   |   avg_days_late |\n",
    "|---:|:---------------------------------------|----------------:|\n",
    "|  0 | Zoning: Junk Yards                     |        175.956  |\n",
    "|  1 | Labeling for Used Mattress             |        162.43   |\n",
    "|  2 | Record Keeping of Used Mattresses      |        153.997  |\n",
    "|  3 | Signage Requied for Sale of Used Mattr |        151.639  |\n",
    "|  4 | Storage of Used Mattress               |        142.113  |\n",
    "|  5 | Zoning: Recycle Yard                   |        135.929  |\n",
    "|  6 | Donation Container Enforcement         |        131.756  |\n",
    "|  7 | License Requied Used Mattress Sales    |        128.798  |\n",
    "|  8 | Traffic Signal Graffiti                |         77.9002 |\n",
    "|  9 | Complaint                              |         72.466  |"
   ]
  },
  {
   "cell_type": "code",
   "execution_count": 22,
   "id": "281a264c-6438-4f33-8803-392baa9ad076",
   "metadata": {},
   "outputs": [
    {
     "name": "stderr",
     "output_type": "stream",
     "text": [
      "[Stage 142:====>                                                  (1 + 11) / 12]\r"
     ]
    },
    {
     "name": "stdout",
     "output_type": "stream",
     "text": [
      "|    | service_request_type                   |   avg_days_late |\n",
      "|---:|:---------------------------------------|----------------:|\n",
      "|  0 | Zoning: Junk Yards                     |        175.956  |\n",
      "|  1 | Labeling for Used Mattress             |        162.43   |\n",
      "|  2 | Record Keeping of Used Mattresses      |        153.997  |\n",
      "|  3 | Signage Requied for Sale of Used Mattr |        151.639  |\n",
      "|  4 | Storage of Used Mattress               |        142.113  |\n",
      "|  5 | Zoning: Recycle Yard                   |        135.929  |\n",
      "|  6 | Donation Container Enforcement         |        131.756  |\n",
      "|  7 | License Requied Used Mattress Sales    |        128.798  |\n",
      "|  8 | Traffic Signal Graffiti                |         77.9002 |\n",
      "|  9 | Complaint                              |         72.466  |\n"
     ]
    },
    {
     "name": "stderr",
     "output_type": "stream",
     "text": [
      "                                                                                \r"
     ]
    }
   ],
   "source": [
    "print((\n",
    "    case.groupBy('service_request_type').agg(mean('num_days_late').alias('avg_days_late')).sort('avg_days_late', ascending=False)\n",
    ").toPandas().head(10).to_markdown())"
   ]
  },
  {
   "cell_type": "markdown",
   "id": "c330189f-2c70-4afc-99dd-62308ee0836d",
   "metadata": {},
   "source": [
    "## 11. Does number of days late depend on department?\n",
    "\n",
    "|    | standardized_dept_name   |   avg_days_late |\n",
    "|---:|:-------------------------|----------------:|\n",
    "|  0 | Customer Service         |        59.4421  |\n",
    "|  1 | Solid Waste              |        -2.19378 |\n",
    "|  2 | Metro Health             |        -4.90202 |\n",
    "|  3 | Parks & Recreation       |        -5.28335 |\n",
    "|  4 | Trans & Cap Improvements |       -20.5074  |\n",
    "|  5 | DSD/Code Enforcement     |       -38.3237  |\n",
    "|  6 | Animal Care Services     |      -226.15    |\n",
    "|  7 | City Council             |       nan       |"
   ]
  },
  {
   "cell_type": "code",
   "execution_count": 24,
   "id": "c0a2589c-14b6-4664-a5fc-5e058fd786cd",
   "metadata": {},
   "outputs": [
    {
     "name": "stderr",
     "output_type": "stream",
     "text": [
      "[Stage 172:====>                                                  (1 + 11) / 12]\r"
     ]
    },
    {
     "name": "stdout",
     "output_type": "stream",
     "text": [
      "|    | standardized_dept_name   |   avg_days_late |\n",
      "|---:|:-------------------------|----------------:|\n",
      "|  0 | Customer Service         |        59.4421  |\n",
      "|  1 | Solid Waste              |        -2.19378 |\n",
      "|  2 | Metro Health             |        -4.90202 |\n",
      "|  3 | Parks & Recreation       |        -5.28335 |\n",
      "|  4 | Trans & Cap Improvements |       -20.5074  |\n",
      "|  5 | DSD/Code Enforcement     |       -38.3237  |\n",
      "|  6 | Animal Care Services     |      -226.15    |\n",
      "|  7 | City Council             |       nan       |\n"
     ]
    },
    {
     "name": "stderr",
     "output_type": "stream",
     "text": [
      "                                                                                \r"
     ]
    }
   ],
   "source": [
    "print((\n",
    "    case.groupBy('standardized_dept_name').agg(mean('num_days_late').alias('avg_days_late')).sort('avg_days_late', ascending=False)\n",
    ").toPandas().head(10).to_markdown())"
   ]
  },
  {
   "cell_type": "markdown",
   "id": "968abd19-e81a-4dd4-8b4c-9a38f5e99870",
   "metadata": {},
   "source": [
    "## 12. How do number of days late depend on department and request type?\n",
    "\n",
    "|    | standardized_dept_name   | service_request_type                   |   avg_days_late |\n",
    "|---:|:-------------------------|:---------------------------------------|----------------:|\n",
    "|  0 | DSD/Code Enforcement     | Zoning: Junk Yards                     |        175.956  |\n",
    "|  1 | DSD/Code Enforcement     | Labeling for Used Mattress             |        162.43   |\n",
    "|  2 | DSD/Code Enforcement     | Record Keeping of Used Mattresses      |        153.997  |\n",
    "|  3 | DSD/Code Enforcement     | Signage Requied for Sale of Used Mattr |        151.639  |\n",
    "|  4 | DSD/Code Enforcement     | Storage of Used Mattress               |        142.113  |\n",
    "|  5 | DSD/Code Enforcement     | Zoning: Recycle Yard                   |        135.929  |\n",
    "|  6 | DSD/Code Enforcement     | Donation Container Enforcement         |        131.756  |\n",
    "|  7 | DSD/Code Enforcement     | License Requied Used Mattress Sales    |        128.798  |\n",
    "|  8 | Trans & Cap Improvements | Traffic Signal Graffiti                |         77.9002 |\n",
    "|  9 | Customer Service         | Complaint                              |         72.466  |"
   ]
  },
  {
   "cell_type": "code",
   "execution_count": 25,
   "id": "7bede9d5-d034-4c14-aced-cc2803a6b7e1",
   "metadata": {},
   "outputs": [
    {
     "name": "stderr",
     "output_type": "stream",
     "text": [
      "[Stage 189:====>                                                  (1 + 12) / 13]\r"
     ]
    },
    {
     "name": "stdout",
     "output_type": "stream",
     "text": [
      "|    | standardized_dept_name   | service_request_type                   |   avg_days_late |\n",
      "|---:|:-------------------------|:---------------------------------------|----------------:|\n",
      "|  0 | DSD/Code Enforcement     | Zoning: Junk Yards                     |        175.956  |\n",
      "|  1 | DSD/Code Enforcement     | Labeling for Used Mattress             |        162.43   |\n",
      "|  2 | DSD/Code Enforcement     | Record Keeping of Used Mattresses      |        153.997  |\n",
      "|  3 | DSD/Code Enforcement     | Signage Requied for Sale of Used Mattr |        151.639  |\n",
      "|  4 | DSD/Code Enforcement     | Storage of Used Mattress               |        142.113  |\n",
      "|  5 | DSD/Code Enforcement     | Zoning: Recycle Yard                   |        135.929  |\n",
      "|  6 | DSD/Code Enforcement     | Donation Container Enforcement         |        131.756  |\n",
      "|  7 | DSD/Code Enforcement     | License Requied Used Mattress Sales    |        128.798  |\n",
      "|  8 | Trans & Cap Improvements | Traffic Signal Graffiti                |         77.9002 |\n",
      "|  9 | Customer Service         | Complaint                              |         72.466  |\n"
     ]
    },
    {
     "name": "stderr",
     "output_type": "stream",
     "text": [
      "                                                                                \r"
     ]
    }
   ],
   "source": [
    "print((\n",
    "    case.groupBy(['standardized_dept_name', 'service_request_type']).agg(mean('num_days_late').alias('avg_days_late')).sort('avg_days_late', ascending=False)\n",
    ").toPandas().head(10).to_markdown())"
   ]
  },
  {
   "cell_type": "code",
   "execution_count": null,
   "id": "21845a13-b45d-471b-8324-c610ded8eae4",
   "metadata": {},
   "outputs": [],
   "source": []
  }
 ],
 "metadata": {
  "kernelspec": {
   "display_name": "Python 3 (ipykernel)",
   "language": "python",
   "name": "python3"
  },
  "language_info": {
   "codemirror_mode": {
    "name": "ipython",
    "version": 3
   },
   "file_extension": ".py",
   "mimetype": "text/x-python",
   "name": "python",
   "nbconvert_exporter": "python",
   "pygments_lexer": "ipython3",
   "version": "3.9.7"
  }
 },
 "nbformat": 4,
 "nbformat_minor": 5
}
