{
 "cells": [
  {
   "cell_type": "code",
   "execution_count": 1,
   "id": "0f083b29-fe4e-42c8-8232-e10af88b4db2",
   "metadata": {},
   "outputs": [
    {
     "name": "stderr",
     "output_type": "stream",
     "text": [
      "WARNING: An illegal reflective access operation has occurred\n",
      "WARNING: Illegal reflective access by org.apache.spark.unsafe.Platform (file:/usr/local/lib/python3.9/site-packages/pyspark/jars/spark-unsafe_2.12-3.2.0.jar) to constructor java.nio.DirectByteBuffer(long,int)\n",
      "WARNING: Please consider reporting this to the maintainers of org.apache.spark.unsafe.Platform\n",
      "WARNING: Use --illegal-access=warn to enable warnings of further illegal reflective access operations\n",
      "WARNING: All illegal access operations will be denied in a future release\n",
      "Using Spark's default log4j profile: org/apache/spark/log4j-defaults.properties\n",
      "Setting default log level to \"WARN\".\n",
      "To adjust logging level use sc.setLogLevel(newLevel). For SparkR, use setLogLevel(newLevel).\n",
      "21/11/08 14:19:10 WARN NativeCodeLoader: Unable to load native-hadoop library for your platform... using builtin-java classes where applicable\n",
      "21/11/08 14:19:10 WARN Utils: Service 'SparkUI' could not bind on port 4040. Attempting port 4041.\n"
     ]
    }
   ],
   "source": [
    "from pyspark.sql import SparkSession\n",
    "from pyspark.sql.types import *\n",
    "from pyspark.sql.functions import *\n",
    "from datetime import datetime \n",
    "\n",
    "# Build pyspark session and turn off warnings\n",
    "spark = SparkSession.builder.getOrCreate()\n"
   ]
  },
  {
   "cell_type": "markdown",
   "id": "4c80593c-774c-43a5-9698-e4140eefcd4c",
   "metadata": {},
   "source": [
    "## This exercise uses the `case.csv`, `dept.csv`, and `source.csv` files from the san antonio 311 call dataset."
   ]
  },
  {
   "cell_type": "markdown",
   "id": "3b90e0f4-a070-4d31-aafe-709354207ab3",
   "metadata": {},
   "source": [
    "### 1.Read the case, department, and source data into their own spark dataframes."
   ]
  },
  {
   "cell_type": "code",
   "execution_count": 2,
   "id": "d69453ab-c522-4f77-98fc-c64a0e4c3089",
   "metadata": {},
   "outputs": [
    {
     "name": "stderr",
     "output_type": "stream",
     "text": [
      "                                                                                \r"
     ]
    }
   ],
   "source": [
    "# import the csv files\n",
    "case = spark.read.csv('case.csv', sep=\",\", header=True, inferSchema=True)\n",
    "dept = spark.read.csv('dept.csv', sep=\",\", header=True, inferSchema=True)\n",
    "source = spark.read.csv('source.csv', sep=\",\", header=True, inferSchema=True)"
   ]
  },
  {
   "cell_type": "markdown",
   "id": "2c87aaa8-cbe0-404e-bc16-acec8bcdf41c",
   "metadata": {},
   "source": [
    "### 2. Let's see how writing to the local disk works in spark:\n",
    "> * Write the code necessary to store the source data in both csv and json format, store these as `sources_csv` and `sources_json`\n",
    "> * Inspect your folder structure. What do you notice?\n",
    "    * I notice that the files are stored within a directory and not in a typical json or csv format."
   ]
  },
  {
   "cell_type": "code",
   "execution_count": 3,
   "id": "8e28148d-4133-437a-8e7f-ab6338b2f525",
   "metadata": {},
   "outputs": [],
   "source": [
    "# Save the data as sources_csv.csv and ignore if the file already exists\n",
    "source.write.csv('sources_csv.csv', mode='ignore')\n",
    "source.write.json('sources_json.json', mode='ignore')"
   ]
  },
  {
   "cell_type": "markdown",
   "id": "3a3b6f2b-5ae2-4e56-921e-e59e77825d0e",
   "metadata": {},
   "source": [
    "### 3. Inspect the data in your dataframes. Are the data types appropriate? Write the code necessary to cast the values to the appropriate types.\n",
    "\n"
   ]
  },
  {
   "cell_type": "code",
   "execution_count": 4,
   "id": "5e1cbeed-5c38-4b61-8a6b-427c69658920",
   "metadata": {},
   "outputs": [
    {
     "name": "stderr",
     "output_type": "stream",
     "text": [
      "[Stage 6:>                                                          (0 + 1) / 1]\r"
     ]
    },
    {
     "name": "stdout",
     "output_type": "stream",
     "text": [
      "-RECORD 0-----------------------------------------------------\n",
      " case_id              | 1014127332                            \n",
      " case_opened_date     | 2018-01-01 00:42:00                   \n",
      " case_closed_date     | 2018-01-01 12:29:00                   \n",
      " SLA_due_date         | 2020-09-26 00:42:00                   \n",
      " case_late            | false                                 \n",
      " num_days_late        | 998                                   \n",
      " case_closed          | true                                  \n",
      " dept_division        | Field Operations                      \n",
      " service_request_type | Stray Animal                          \n",
      " SLA_days             | 999                                   \n",
      " source_id            | svcCRMLS                              \n",
      " request_address      | 2315  EL PASO ST, San Antonio, 78207  \n",
      " council_district     | 5                                     \n",
      "-RECORD 1-----------------------------------------------------\n",
      " case_id              | 1014127333                            \n",
      " case_opened_date     | 2018-01-01 00:46:00                   \n",
      " case_closed_date     | 2018-01-03 08:11:00                   \n",
      " SLA_due_date         | 2018-01-05 08:30:00                   \n",
      " case_late            | false                                 \n",
      " num_days_late        | 2                                     \n",
      " case_closed          | true                                  \n",
      " dept_division        | Storm Water                           \n",
      " service_request_type | Removal Of Obstruction                \n",
      " SLA_days             | 4                                     \n",
      " source_id            | svcCRMSS                              \n",
      " request_address      | 2215  GOLIAD RD, San Antonio, 78223   \n",
      " council_district     | 3                                     \n",
      "-RECORD 2-----------------------------------------------------\n",
      " case_id              | 1014127334                            \n",
      " case_opened_date     | 2018-01-01 00:48:00                   \n",
      " case_closed_date     | 2018-01-02 07:57:00                   \n",
      " SLA_due_date         | 2018-01-05 08:30:00                   \n",
      " case_late            | false                                 \n",
      " num_days_late        | 3                                     \n",
      " case_closed          | true                                  \n",
      " dept_division        | Storm Water                           \n",
      " service_request_type | Removal Of Obstruction                \n",
      " SLA_days             | 4                                     \n",
      " source_id            | svcCRMSS                              \n",
      " request_address      | 102  PALFREY ST W, San Antonio, 78223 \n",
      " council_district     | 3                                     \n",
      "-RECORD 3-----------------------------------------------------\n",
      " case_id              | 1014127335                            \n",
      " case_opened_date     | 2018-01-01 01:29:00                   \n",
      " case_closed_date     | 2018-01-02 08:13:00                   \n",
      " SLA_due_date         | 2018-01-17 08:30:00                   \n",
      " case_late            | false                                 \n",
      " num_days_late        | 15                                    \n",
      " case_closed          | true                                  \n",
      " dept_division        | Code Enforcement                      \n",
      " service_request_type | Front Or Side Yard Parking            \n",
      " SLA_days             | 16                                    \n",
      " source_id            | svcCRMSS                              \n",
      " request_address      | 114  LA GARDE ST, San Antonio, 78223  \n",
      " council_district     | 3                                     \n",
      "-RECORD 4-----------------------------------------------------\n",
      " case_id              | 1014127336                            \n",
      " case_opened_date     | 2018-01-01 01:34:00                   \n",
      " case_closed_date     | 2018-01-01 13:29:00                   \n",
      " SLA_due_date         | 2018-01-01 04:34:00                   \n",
      " case_late            | true                                  \n",
      " num_days_late        | 0                                     \n",
      " case_closed          | true                                  \n",
      " dept_division        | Field Operations                      \n",
      " service_request_type | Animal Cruelty(Critical)              \n",
      " SLA_days             | 0                                     \n",
      " source_id            | svcCRMSS                              \n",
      " request_address      | 734  CLEARVIEW DR, San Antonio, 78228 \n",
      " council_district     | 7                                     \n",
      "only showing top 5 rows\n",
      "\n"
     ]
    },
    {
     "name": "stderr",
     "output_type": "stream",
     "text": [
      "                                                                                \r"
     ]
    }
   ],
   "source": [
    "# Dates will need to be formatted, creating a UDF will be an option to do this\n",
    "date_convert_udf = udf(lambda date: datetime.strptime(date, \"%m/%d/%y %H:%M\"), TimestampType())\n",
    "\n",
    "case = (\n",
    "    case.\n",
    "    withColumn('case_opened_date',\n",
    "               date_convert_udf(col('case_opened_date'))).\n",
    "    withColumn('case_closed_date',\n",
    "               date_convert_udf(col('case_closed_date'))).\n",
    "    withColumn('SLA_due_date',\n",
    "               date_convert_udf(col('SLA_due_date'))).\n",
    "    withColumn('case_closed',\n",
    "               expr(\"case_closed == 'YES'\")).\n",
    "    withColumn('case_late',\n",
    "               expr(\"case_late == 'YES'\")).\n",
    "    withColumn('num_days_late',\n",
    "               expr(\"num_days_late * -1\").cast('integer')).\n",
    "    withColumn('SLA_days',\n",
    "               col('SLA_days').cast('integer'))\n",
    ").drop(col('case_status'))\n",
    "case.show(5, False, True)"
   ]
  },
  {
   "cell_type": "code",
   "execution_count": 7,
   "id": "c5240773-2aca-4de3-a45b-8ff990e4fd75",
   "metadata": {},
   "outputs": [
    {
     "name": "stdout",
     "output_type": "stream",
     "text": [
      "-RECORD 0----------------------------------\n",
      " dept_division          | 311 Call Center  \n",
      " dept_name              | Customer Service \n",
      " standardized_dept_name | Customer Service \n",
      " dept_subject_to_SLA    | true             \n",
      "only showing top 1 row\n",
      "\n",
      "root\n",
      " |-- dept_division: string (nullable = true)\n",
      " |-- dept_name: string (nullable = true)\n",
      " |-- standardized_dept_name: string (nullable = true)\n",
      " |-- dept_subject_to_SLA: string (nullable = true)\n",
      "\n",
      "-RECORD 0----------------------------------\n",
      " dept_division          | 311 Call Center  \n",
      " dept_name              | Customer Service \n",
      " standardized_dept_name | Customer Service \n",
      " dept_subject_to_SLA    | YES              \n",
      "only showing top 1 row\n",
      "\n"
     ]
    }
   ],
   "source": [
    "# Look at the dept data schema and cast the values to the appropriate types\n",
    "dept = (\n",
    "    dept.\n",
    "    withColumn('dept_subject_to_SLA',\n",
    "               expr(\"dept_subject_to_SLA == 'YES'\").cast('boolean'))\n",
    ")\n",
    "dept.printSchema()\n",
    "dept.show(1, False, True)"
   ]
  },
  {
   "cell_type": "code",
   "execution_count": 6,
   "id": "bd932242-9231-45fc-9926-8a712742ca2d",
   "metadata": {},
   "outputs": [
    {
     "name": "stdout",
     "output_type": "stream",
     "text": [
      "root\n",
      " |-- source_id: string (nullable = true)\n",
      " |-- source_username: string (nullable = true)\n",
      "\n",
      "-RECORD 0---------------------------\n",
      " source_id       | 100137           \n",
      " source_username | Merlene Blodgett \n",
      "only showing top 1 row\n",
      "\n"
     ]
    }
   ],
   "source": [
    "# Look at the case data schema and cast the values to the appropriate types\n",
    "\n",
    "source.printSchema()\n",
    "source.show(1, False, True)"
   ]
  },
  {
   "cell_type": "code",
   "execution_count": null,
   "id": "a09188c4-b1b8-4721-87cd-331128517f2a",
   "metadata": {},
   "outputs": [],
   "source": []
  }
 ],
 "metadata": {
  "kernelspec": {
   "display_name": "Python 3 (ipykernel)",
   "language": "python",
   "name": "python3"
  },
  "language_info": {
   "codemirror_mode": {
    "name": "ipython",
    "version": 3
   },
   "file_extension": ".py",
   "mimetype": "text/x-python",
   "name": "python",
   "nbconvert_exporter": "python",
   "pygments_lexer": "ipython3",
   "version": "3.9.7"
  }
 },
 "nbformat": 4,
 "nbformat_minor": 5
}
